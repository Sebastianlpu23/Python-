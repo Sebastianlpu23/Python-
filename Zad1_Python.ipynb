{
  "nbformat": 4,
  "nbformat_minor": 0,
  "metadata": {
    "colab": {
      "provenance": [],
      "authorship_tag": "ABX9TyNn1A6oBiWcmhyYCBaOtBSD",
      "include_colab_link": true
    },
    "kernelspec": {
      "name": "python3",
      "display_name": "Python 3"
    },
    "language_info": {
      "name": "python"
    }
  },
  "cells": [
    {
      "cell_type": "markdown",
      "metadata": {
        "id": "view-in-github",
        "colab_type": "text"
      },
      "source": [
        "<a href=\"https://colab.research.google.com/github/Sebastianlpu23/Python-/blob/main/Zad1_Python.ipynb\" target=\"_parent\"><img src=\"https://colab.research.google.com/assets/colab-badge.svg\" alt=\"Open In Colab\"/></a>"
      ]
    },
    {
      "cell_type": "code",
      "execution_count": null,
      "metadata": {
        "colab": {
          "base_uri": "https://localhost:8080/"
        },
        "id": "DXu6tfDVcg2t",
        "outputId": "3291f6af-0243-4e89-e9cb-c28a66be6b8b"
      },
      "outputs": [
        {
          "output_type": "stream",
          "name": "stdout",
          "text": [
            "Suma kwadratów x, y i z wynosi: 50\n"
          ]
        }
      ],
      "source": [
        "class Point:\n",
        "    def __init__(self, x, y, z):\n",
        "        self.x = x\n",
        "        self.y = y\n",
        "        self.z = z\n",
        "\n",
        "    def square_sum(self):\n",
        "        # Podnieś x, y i z do kwadratu i zwróć ich sumę\n",
        "        return self.x ** 2 + self.y ** 2 + self.z ** 2\n",
        "\n",
        "# Przykład użycia klasy Point\n",
        "point = Point(3, 4, 5)\n",
        "result = point.square_sum()\n",
        "print(\"Suma kwadratów x, y i z wynosi:\", result)\n"
      ]
    }
  ]
}