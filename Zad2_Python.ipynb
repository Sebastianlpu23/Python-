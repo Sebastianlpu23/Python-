{
  "nbformat": 4,
  "nbformat_minor": 0,
  "metadata": {
    "colab": {
      "provenance": [],
      "authorship_tag": "ABX9TyPMNBP8elPIdbfqa6EHHFkI",
      "include_colab_link": true
    },
    "kernelspec": {
      "name": "python3",
      "display_name": "Python 3"
    },
    "language_info": {
      "name": "python"
    }
  },
  "cells": [
    {
      "cell_type": "markdown",
      "metadata": {
        "id": "view-in-github",
        "colab_type": "text"
      },
      "source": [
        "<a href=\"https://colab.research.google.com/github/Sebastianlpu23/Python-/blob/main/Zad2_Python.ipynb\" target=\"_parent\"><img src=\"https://colab.research.google.com/assets/colab-badge.svg\" alt=\"Open In Colab\"/></a>"
      ]
    },
    {
      "cell_type": "code",
      "execution_count": 1,
      "metadata": {
        "colab": {
          "base_uri": "https://localhost:8080/"
        },
        "id": "hCUgFbNUcvzL",
        "outputId": "420c5911-34ee-45a3-b032-e076fa4c40da"
      },
      "outputs": [
        {
          "output_type": "stream",
          "name": "stdout",
          "text": [
            "Suma ocen: 253\n",
            "Procent ocen: 84.33333333333334\n"
          ]
        }
      ],
      "source": [
        "class Student:\n",
        "    def __init__(self, name, phy, chem, bio):\n",
        "        self.name = name\n",
        "        self.phy = phy\n",
        "        self.chem = chem\n",
        "        self.bio = bio\n",
        "\n",
        "    def total_obtained(self):\n",
        "        # Oblicz sumę ocen ucznia\n",
        "        return self.phy + self.chem + self.bio\n",
        "\n",
        "    def percentage(self):\n",
        "        # Oblicz procent ocen ucznia\n",
        "        total_marks = 300  # Całkowita liczba punktów za trzy przedmioty (100 punktów na każdy przedmiot)\n",
        "        obtained_marks = self.total_obtained()\n",
        "        percentage = (obtained_marks / total_marks) * 100\n",
        "        return percentage\n",
        "\n",
        "# Przykład użycia klasy Student\n",
        "student = Student(\"John\", 85, 90, 78)\n",
        "total_obtained_marks = student.total_obtained()\n",
        "percentage = student.percentage()\n",
        "\n",
        "print(\"Suma ocen:\", total_obtained_marks)\n",
        "print(\"Procent ocen:\", percentage)\n"
      ]
    }
  ]
}