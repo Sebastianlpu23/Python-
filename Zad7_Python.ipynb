{
  "nbformat": 4,
  "nbformat_minor": 0,
  "metadata": {
    "colab": {
      "provenance": [],
      "authorship_tag": "ABX9TyOdLKuw3quFavBohiR40LZv",
      "include_colab_link": true
    },
    "kernelspec": {
      "name": "python3",
      "display_name": "Python 3"
    },
    "language_info": {
      "name": "python"
    }
  },
  "cells": [
    {
      "cell_type": "markdown",
      "metadata": {
        "id": "view-in-github",
        "colab_type": "text"
      },
      "source": [
        "<a href=\"https://colab.research.google.com/github/Sebastianlpu23/Python-/blob/main/Zad7_Python.ipynb\" target=\"_parent\"><img src=\"https://colab.research.google.com/assets/colab-badge.svg\" alt=\"Open In Colab\"/></a>"
      ]
    },
    {
      "cell_type": "code",
      "execution_count": 1,
      "metadata": {
        "colab": {
          "base_uri": "https://localhost:8080/"
        },
        "id": "5FRaKprmgzjq",
        "outputId": "92854dfd-73b2-4813-fd41-a6a2ff0d3de4"
      },
      "outputs": [
        {
          "output_type": "stream",
          "name": "stdout",
          "text": [
            "Generic Animal makes a sound: Unknown Sound\n",
            "Rex is a Mammal and makes a sound: Woof\n",
            "Dolly is White and makes a sound: Baa\n"
          ]
        }
      ],
      "source": [
        "class Animal:\n",
        "    def __init__(self, name, sound):\n",
        "        self.name = name\n",
        "        self.sound = sound\n",
        "\n",
        "    def animal_details(self):\n",
        "        print(f\"{self.name} makes a sound: {self.sound}\")\n",
        "\n",
        "class Dog(Animal):\n",
        "    def __init__(self, name, sound, family):\n",
        "        super().__init__(name, sound)\n",
        "        self.family = family\n",
        "\n",
        "    def animal_details(self):\n",
        "        print(f\"{self.name} is a {self.family} and makes a sound: {self.sound}\")\n",
        "\n",
        "class Sheep(Animal):\n",
        "    def __init__(self, name, sound, color):\n",
        "        super().__init__(name, sound)\n",
        "        self.color = color\n",
        "\n",
        "    def animal_details(self):\n",
        "        print(f\"{self.name} is {self.color} and makes a sound: {self.sound}\")\n",
        "\n",
        "# Przykład użycia klas\n",
        "animal1 = Animal(\"Generic Animal\", \"Unknown Sound\")\n",
        "dog = Dog(\"Rex\", \"Woof\", \"Mammal\")\n",
        "sheep = Sheep(\"Dolly\", \"Baa\", \"White\")\n",
        "\n",
        "animal1.animal_details()\n",
        "dog.animal_details()\n",
        "sheep.animal_details()\n"
      ]
    }
  ]
}