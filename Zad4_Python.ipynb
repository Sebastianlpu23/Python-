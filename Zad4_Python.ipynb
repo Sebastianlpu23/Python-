{
  "nbformat": 4,
  "nbformat_minor": 0,
  "metadata": {
    "colab": {
      "provenance": [],
      "authorship_tag": "ABX9TyMn+GGZbIwanbZF3ST/lf33",
      "include_colab_link": true
    },
    "kernelspec": {
      "name": "python3",
      "display_name": "Python 3"
    },
    "language_info": {
      "name": "python"
    }
  },
  "cells": [
    {
      "cell_type": "markdown",
      "metadata": {
        "id": "view-in-github",
        "colab_type": "text"
      },
      "source": [
        "<a href=\"https://colab.research.google.com/github/Sebastianlpu23/Python-/blob/main/Zad4_Python.ipynb\" target=\"_parent\"><img src=\"https://colab.research.google.com/assets/colab-badge.svg\" alt=\"Open In Colab\"/></a>"
      ]
    },
    {
      "cell_type": "code",
      "execution_count": 1,
      "metadata": {
        "colab": {
          "base_uri": "https://localhost:8080/"
        },
        "id": "CD0XBHlMfWS-",
        "outputId": "8b6110cf-eda1-44dd-f196-64f29f3d5a7e"
      },
      "outputs": [
        {
          "output_type": "stream",
          "name": "stdout",
          "text": [
            "Pole prostokąta: 50\n",
            "Obwód prostokąta: 30\n",
            "Nowa długość: 7\n",
            "Nowa szerokość: 14\n"
          ]
        }
      ],
      "source": [
        "class Rectangle:\n",
        "    def __init__(self, length, width):\n",
        "        self.__length = length  # Właściwość prywatna\n",
        "        self.__width = width    # Właściwość prywatna\n",
        "\n",
        "    def area(self):\n",
        "        return self.__length * self.__width\n",
        "\n",
        "    def perimeter(self):\n",
        "        return 2 * (self.__length + self.__width)\n",
        "\n",
        "    # Metody do ustawiania i pobierania wartości własności prywatnych\n",
        "    def set_length(self, length):\n",
        "        self.__length = length\n",
        "\n",
        "    def set_width(self, width):\n",
        "        self.__width = width\n",
        "\n",
        "    def get_length(self):\n",
        "        return self.__length\n",
        "\n",
        "    def get_width(self):\n",
        "        return self.__width\n",
        "\n",
        "# Przykład użycia klasy Rectangle\n",
        "rectangle = Rectangle(5, 10)\n",
        "\n",
        "print(\"Pole prostokąta:\", rectangle.area())\n",
        "print(\"Obwód prostokąta:\", rectangle.perimeter())\n",
        "\n",
        "# Przykład ustawienia i pobrania wartości własności prywatnych\n",
        "rectangle.set_length(7)\n",
        "rectangle.set_width(14)\n",
        "\n",
        "print(\"Nowa długość:\", rectangle.get_length())\n",
        "print(\"Nowa szerokość:\", rectangle.get_width())\n"
      ]
    }
  ]
}