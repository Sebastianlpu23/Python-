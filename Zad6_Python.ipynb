{
  "nbformat": 4,
  "nbformat_minor": 0,
  "metadata": {
    "colab": {
      "provenance": [],
      "authorship_tag": "ABX9TyO6zI3l67ZDLy9Rjg7D/hVr",
      "include_colab_link": true
    },
    "kernelspec": {
      "name": "python3",
      "display_name": "Python 3"
    },
    "language_info": {
      "name": "python"
    }
  },
  "cells": [
    {
      "cell_type": "markdown",
      "metadata": {
        "id": "view-in-github",
        "colab_type": "text"
      },
      "source": [
        "<a href=\"https://colab.research.google.com/github/Sebastianlpu23/Python-/blob/main/Zad6_Python.ipynb\" target=\"_parent\"><img src=\"https://colab.research.google.com/assets/colab-badge.svg\" alt=\"Open In Colab\"/></a>"
      ]
    },
    {
      "cell_type": "code",
      "execution_count": 1,
      "metadata": {
        "colab": {
          "base_uri": "https://localhost:8080/"
        },
        "id": "qfGS8OLVgazS",
        "outputId": "3a3fc172-9056-47ee-b3d0-79d17fb3027e"
      },
      "outputs": [
        {
          "output_type": "stream",
          "name": "stdout",
          "text": [
            "Saldo konta 1: 1000\n",
            "Saldo konta 2: 2000\n",
            "Saldo konta 1 po wpłacie: 1500\n",
            "Saldo konta 2 po wpłacie: 2800\n",
            "Saldo konta 1 po wypłacie: 1200\n",
            "Saldo konta 2 po wypłacie: 2650\n",
            "Kwota odsetek na koncie 2: 79.5\n"
          ]
        }
      ],
      "source": [
        "class Account:\n",
        "    def __init__(self, title, balance=0):\n",
        "        self.title = title\n",
        "        self.balance = balance\n",
        "\n",
        "    def get_balance(self):\n",
        "        return self.balance\n",
        "\n",
        "    def deposit(self, amount):\n",
        "        if amount > 0:\n",
        "            self.balance += amount\n",
        "            return True\n",
        "        else:\n",
        "            return False  # Nie można wpłacić ujemnej kwoty\n",
        "\n",
        "    def withdraw(self, amount):\n",
        "        if amount > 0 and amount <= self.balance:\n",
        "            self.balance -= amount\n",
        "            return True\n",
        "        else:\n",
        "            return False  # Nie można wypłacić ujemnej kwoty lub więcej niż dostępne saldo\n",
        "\n",
        "class SavingsAccount(Account):\n",
        "    def __init__(self, title, balance=0, interest_rate=0):\n",
        "        super().__init__(title, balance)\n",
        "        self.interest_rate = interest_rate\n",
        "\n",
        "    def interest_amount(self):\n",
        "        return (self.interest_rate * self.balance) / 100\n",
        "\n",
        "# Przykład użycia klas Account i SavingsAccount\n",
        "account1 = Account(\"Konto oszczędnościowe\", 1000)\n",
        "account2 = SavingsAccount(\"Konto oszczędnościowe 2\", 2000, 3)\n",
        "\n",
        "print(f\"Saldo konta 1: {account1.get_balance()}\")\n",
        "print(f\"Saldo konta 2: {account2.get_balance()}\")\n",
        "\n",
        "account1.deposit(500)\n",
        "account2.deposit(800)\n",
        "\n",
        "print(f\"Saldo konta 1 po wpłacie: {account1.get_balance()}\")\n",
        "print(f\"Saldo konta 2 po wpłacie: {account2.get_balance()}\")\n",
        "\n",
        "account1.withdraw(300)\n",
        "account2.withdraw(150)\n",
        "\n",
        "print(f\"Saldo konta 1 po wypłacie: {account1.get_balance()}\")\n",
        "print(f\"Saldo konta 2 po wypłacie: {account2.get_balance()}\")\n",
        "\n",
        "print(f\"Kwota odsetek na koncie 2: {account2.interest_amount()}\")\n"
      ]
    }
  ]
}