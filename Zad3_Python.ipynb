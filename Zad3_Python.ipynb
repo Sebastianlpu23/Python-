{
  "nbformat": 4,
  "nbformat_minor": 0,
  "metadata": {
    "colab": {
      "provenance": [],
      "authorship_tag": "ABX9TyM1CXzrEE9Bkk8U4jUdPmxF",
      "include_colab_link": true
    },
    "kernelspec": {
      "name": "python3",
      "display_name": "Python 3"
    },
    "language_info": {
      "name": "python"
    }
  },
  "cells": [
    {
      "cell_type": "markdown",
      "metadata": {
        "id": "view-in-github",
        "colab_type": "text"
      },
      "source": [
        "<a href=\"https://colab.research.google.com/github/Sebastianlpu23/Python-/blob/main/Zad3_Python.ipynb\" target=\"_parent\"><img src=\"https://colab.research.google.com/assets/colab-badge.svg\" alt=\"Open In Colab\"/></a>"
      ]
    },
    {
      "cell_type": "code",
      "execution_count": 1,
      "metadata": {
        "colab": {
          "base_uri": "https://localhost:8080/"
        },
        "id": "uqBfkAugeJBO",
        "outputId": "6d132818-317a-4320-f609-0016d1890f67"
      },
      "outputs": [
        {
          "output_type": "stream",
          "name": "stdout",
          "text": [
            "Dodawanie: 12\n",
            "Odejmowanie: -8\n",
            "Mnożenie: 20\n",
            "Dzielenie: 5.0\n",
            "Modulo: 0\n",
            "Potęgowanie: 100\n"
          ]
        }
      ],
      "source": [
        "class Calculator:\n",
        "    def __init__(self, num1, num2):\n",
        "        self.num1 = num1\n",
        "        self.num2 = num2\n",
        "\n",
        "    def add(self):\n",
        "        return self.num1 + self.num2\n",
        "\n",
        "    def subtract(self):\n",
        "        return self.num2 - self.num1\n",
        "\n",
        "    def multiply(self):\n",
        "        return self.num1 * self.num2\n",
        "\n",
        "    def divide(self):\n",
        "        try:\n",
        "            result = self.num1 / self.num2\n",
        "            return result\n",
        "        except ZeroDivisionError:\n",
        "            return \"Błąd: Dzielenie przez zero\"\n",
        "\n",
        "    def modulus(self):\n",
        "        try:\n",
        "            result = self.num1 % self.num2\n",
        "            return result\n",
        "        except ZeroDivisionError:\n",
        "            return \"Błąd: Modulo przez zero\"\n",
        "\n",
        "    def power(self):\n",
        "        if self.num1 == 0 and self.num2 == 0:\n",
        "            return \"Błąd: Nieokreślony wynik (0^0)\"\n",
        "        else:\n",
        "            return self.num1 ** self.num2\n",
        "\n",
        "# Przykład użycia klasy Calculator\n",
        "calc = Calculator(10, 2)\n",
        "\n",
        "print(\"Dodawanie:\", calc.add())\n",
        "print(\"Odejmowanie:\", calc.subtract())\n",
        "print(\"Mnożenie:\", calc.multiply())\n",
        "print(\"Dzielenie:\", calc.divide())\n",
        "print(\"Modulo:\", calc.modulus())\n",
        "print(\"Potęgowanie:\", calc.power())\n"
      ]
    }
  ]
}